{
 "cells": [
  {
   "cell_type": "code",
   "execution_count": 6,
   "id": "71808ee7-29a6-48d4-b33d-922259300284",
   "metadata": {},
   "outputs": [],
   "source": [
    "import numpy as np \n",
    "\n",
    "# numpy 라는 이름이 너무 길어서 np라고 부를거야\n",
    "my_list = list(range(1000000))\n",
    "my_array = np.arange(1000000)\n"
   ]
  },
  {
   "cell_type": "code",
   "execution_count": 7,
   "id": "38577bad-047e-4662-aea7-8545b0d467d3",
   "metadata": {},
   "outputs": [
    {
     "name": "stdout",
     "output_type": "stream",
     "text": [
      "54.2 ms ± 2.06 ms per loop (mean ± std. dev. of 7 runs, 10 loops each)\n",
      "2.3 ms ± 232 μs per loop (mean ± std. dev. of 7 runs, 100 loops each)\n"
     ]
    }
   ],
   "source": [
    "%timeit my_list2 = [i * 2 for i in my_list]\n",
    "%timeit my_array2 = my_array * 2"
   ]
  },
  {
   "cell_type": "code",
   "execution_count": 10,
   "id": "26e7bd17-59b0-49c1-946d-4818567bdea2",
   "metadata": {},
   "outputs": [
    {
     "name": "stdout",
     "output_type": "stream",
     "text": [
      "[[   1.     1.2    3. ]\n",
      " [-123.   123.     0. ]]\n"
     ]
    }
   ],
   "source": [
    "a = [\n",
    "    [1, 1.2, 3],\n",
    "    [-123, 123, 0]\n",
    "]\n",
    "\n",
    "data = np.array(a)\n",
    "print(data) # 뒤에 . 을 붙여서 데이터의 형태를 맞춰줌"
   ]
  },
  {
   "cell_type": "code",
   "execution_count": 12,
   "id": "c87c46b8-796b-4ef5-b319-58be93e8c199",
   "metadata": {},
   "outputs": [
    {
     "name": "stdout",
     "output_type": "stream",
     "text": [
      "[[   10.    12.    30.]\n",
      " [-1230.  1230.     0.]]\n",
      "[[   2.     2.4    6. ]\n",
      " [-246.   246.     0. ]]\n"
     ]
    }
   ],
   "source": [
    "# 0차원 : 스칼라(scala)\n",
    "# 1차원 : 벡터(vector)\n",
    "# 2차원 : 행렬(matrix), \n",
    "# 3차원 : 텐서(tenser)\n",
    "print(data * 10)\n",
    "print(data + data)"
   ]
  },
  {
   "cell_type": "code",
   "execution_count": 16,
   "id": "0fa177e1-b633-4f22-ab6e-cb6937f7bbab",
   "metadata": {},
   "outputs": [
    {
     "name": "stdout",
     "output_type": "stream",
     "text": [
      "(2, 3)\n",
      "float64\n"
     ]
    }
   ],
   "source": [
    "print(data.shape) # 가장 바깥에 있는 배열이 2개, 안쪽에 3개 \n",
    "print(data.dtype) # 안쪽의 데이터 타입 "
   ]
  },
  {
   "cell_type": "markdown",
   "id": "cf99ab75-1cef-47d6-8cd9-aa3e86b90990",
   "metadata": {},
   "source": [
    "## ndarray 생성하기"
   ]
  },
  {
   "cell_type": "code",
   "execution_count": 19,
   "id": "129f9403-6fd6-4c37-84dd-ece9b487988b",
   "metadata": {},
   "outputs": [],
   "source": [
    "## list = array(좀 더 고정된 느낌)"
   ]
  },
  {
   "cell_type": "code",
   "execution_count": 23,
   "id": "332cc6fc-04a5-4a78-b074-911e7f9062d5",
   "metadata": {},
   "outputs": [
    {
     "name": "stdout",
     "output_type": "stream",
     "text": [
      "[1 2 3 4 5]\n",
      "<class 'numpy.ndarray'>\n"
     ]
    }
   ],
   "source": [
    "data1 = [1, 2, 3, 4, 5]\n",
    "arr1 = np.array(data1)\n",
    "print(arr1)\n",
    "print(type(arr1))"
   ]
  },
  {
   "cell_type": "code",
   "execution_count": 29,
   "id": "bb7ec0a5-6b55-4232-8edc-f43e75f4661f",
   "metadata": {},
   "outputs": [
    {
     "name": "stdout",
     "output_type": "stream",
     "text": [
      "[[1.1 2.2]\n",
      " [3.3 4.4]]\n",
      "<class 'numpy.ndarray'>\n"
     ]
    }
   ],
   "source": [
    "arr2 = np.array( [[1.1, 2.2], [3.3 , 4.4]])\n",
    "print(arr2)\n",
    "print(type(arr2))"
   ]
  },
  {
   "cell_type": "code",
   "execution_count": 30,
   "id": "3a065773-c703-49cd-97ab-9df00ef4556c",
   "metadata": {},
   "outputs": [
    {
     "name": "stdout",
     "output_type": "stream",
     "text": [
      "1\n",
      "2\n"
     ]
    }
   ],
   "source": [
    "print(arr1.ndim)\n",
    "print(arr2.ndim)"
   ]
  },
  {
   "cell_type": "code",
   "execution_count": 31,
   "id": "bc1d0dee-5d48-42c4-8c5a-8ca6ce425e0b",
   "metadata": {},
   "outputs": [
    {
     "name": "stdout",
     "output_type": "stream",
     "text": [
      "(5,)\n",
      "(2, 2)\n"
     ]
    }
   ],
   "source": [
    "print(arr1.shape)\n",
    "print(arr2.shape)"
   ]
  },
  {
   "cell_type": "code",
   "execution_count": 68,
   "id": "c641ef01-fe56-433a-a9f5-d663733eac6a",
   "metadata": {},
   "outputs": [
    {
     "name": "stdout",
     "output_type": "stream",
     "text": [
      "[0. 0. 0. 0. 0. 0. 0. 0. 0. 0.]\n",
      "[0, 0, 0, 0, 0, 0, 0, 0, 0, 0]\n",
      "[[0. 0. 0. 0. 0.]\n",
      " [0. 0. 0. 0. 0.]\n",
      " [0. 0. 0. 0. 0.]\n",
      " [0. 0. 0. 0. 0.]\n",
      " [0. 0. 0. 0. 0.]]\n",
      "[[[4.67296746e-307 1.69121096e-306]\n",
      "  [1.60219035e-306 1.89146896e-307]]\n",
      "\n",
      " [[7.56571288e-307 3.11525958e-307]\n",
      "  [1.24610723e-306 1.29061142e-306]]]\n"
     ]
    }
   ],
   "source": [
    "print(np.zeros(10))\n",
    "print([0] * 10)\n",
    "print(np.zeros(  (5, 5)  )) # (n, n)형태로 만들기\n",
    "print(np.empty((2, 2, 2))) # 비어있는 리스트를 만들었음 그래서 숫자는 무작위로 들어감 \n"
   ]
  },
  {
   "cell_type": "code",
   "execution_count": 40,
   "id": "02ba89b7-a316-4239-824f-90f3344206b6",
   "metadata": {},
   "outputs": [
    {
     "name": "stdout",
     "output_type": "stream",
     "text": [
      "[0 1 2 3 4 5 6 7 8 9]\n"
     ]
    }
   ],
   "source": [
    "print(np.arange(10))"
   ]
  },
  {
   "cell_type": "markdown",
   "id": "ce4e1549-c1d3-4b6f-aa8c-781bfb07eb45",
   "metadata": {},
   "source": [
    "# ndarray 자료형"
   ]
  },
  {
   "cell_type": "code",
   "execution_count": 45,
   "id": "0c991a41-4cec-4260-9f9e-baf6bbc9c3b4",
   "metadata": {},
   "outputs": [
    {
     "name": "stdout",
     "output_type": "stream",
     "text": [
      "float64\n",
      "int32\n"
     ]
    }
   ],
   "source": [
    "arr1 = np.array([1, 2, 3], dtype = np.float64)\n",
    "arr2 = np.array([1, 2, 3], dtype=np.int32)\n",
    "\n",
    "print(arr1.dtype)\n",
    "\n",
    "print(arr2.dtype)"
   ]
  },
  {
   "cell_type": "code",
   "execution_count": 50,
   "id": "4ba0ac05-5a5a-4b21-9ed5-9ec657710d5b",
   "metadata": {},
   "outputs": [
    {
     "name": "stdout",
     "output_type": "stream",
     "text": [
      "int64\n",
      "[1. 2. 3.]\n",
      "float64\n"
     ]
    }
   ],
   "source": [
    "arr1 = np.array([1, 2, 3])\n",
    "print(arr1.dtype)\n",
    "float_arr1 = arr1.astype(np.float64) # 형변환을 시키는 함수\n",
    "print(float_arr1)\n",
    "print(float_arr1.dtype)"
   ]
  },
  {
   "cell_type": "code",
   "execution_count": 53,
   "id": "1ab09a7c-156d-420d-a5db-74bd8e7ec996",
   "metadata": {},
   "outputs": [
    {
     "name": "stdout",
     "output_type": "stream",
     "text": [
      "float64\n",
      "[1 2 3]\n",
      "int64\n"
     ]
    }
   ],
   "source": [
    "arr2 = np.array([1.1, 2.2, 3.3])\n",
    "print(arr2.dtype)\n",
    "int_arr2 = arr2.astype(np.int64) # int로 형변환을 해서 뒤에 소수점이 날라감\n",
    "print(int_arr2)\n",
    "print(int_arr2.dtype)"
   ]
  },
  {
   "cell_type": "markdown",
   "id": "58d3fea5-d897-4d13-b8e7-30511485d161",
   "metadata": {},
   "source": [
    "## 산술 연산"
   ]
  },
  {
   "cell_type": "code",
   "execution_count": 58,
   "id": "c07b2f2d-e39b-4222-8a88-a47ad1be376b",
   "metadata": {},
   "outputs": [
    {
     "name": "stdout",
     "output_type": "stream",
     "text": [
      "[[1 2 3]\n",
      " [4 5 6]]\n"
     ]
    }
   ],
   "source": [
    "arr = np.array([[1, 2, 3], [4, 5, 6]])\n",
    "print(arr)"
   ]
  },
  {
   "cell_type": "code",
   "execution_count": 63,
   "id": "e0aa32e3-1939-4668-9137-2c3881f3181a",
   "metadata": {},
   "outputs": [
    {
     "name": "stdout",
     "output_type": "stream",
     "text": [
      "[[ 1  4  9]\n",
      " [16 25 36]]\n",
      "[[ 2  4  6]\n",
      " [ 8 10 12]]\n",
      "[[1.         0.5        0.33333333]\n",
      " [0.25       0.2        0.16666667]]\n",
      "[[  1   8  27]\n",
      " [ 64 125 216]]\n"
     ]
    }
   ],
   "source": [
    "print(arr * arr)\n",
    "print(arr + arr)\n",
    "print(1 / arr)\n",
    "print(arr ** 3)\n",
    "# 사칙연산은 같은 위치에 있는 애들끼리가 기본값"
   ]
  },
  {
   "cell_type": "code",
   "execution_count": 67,
   "id": "cb431700-625c-4e65-8333-89dff4c151ca",
   "metadata": {},
   "outputs": [
    {
     "name": "stdout",
     "output_type": "stream",
     "text": [
      "[[1 2 3]\n",
      " [4 5 6]]\n",
      "[[1 2 3]\n",
      " [4 5 6]] [[3 2 1]\n",
      " [1 2 3]]\n",
      "[[False False  True]\n",
      " [ True  True  True]]\n",
      "[[False False  True]\n",
      " [False False False]]\n"
     ]
    }
   ],
   "source": [
    "arr2 = np.array([[3, 2, 1], [1, 2, 3]])\n",
    "print(arr)\n",
    "print(arr, arr2)\n",
    "print(arr > arr2)\n",
    "print(arr == 3)"
   ]
  },
  {
   "cell_type": "markdown",
   "id": "ead9d52b-dc8f-4b79-9094-4cb9e265a982",
   "metadata": {},
   "source": [
    "## 색인(인덱싱)과 슬라이싱"
   ]
  },
  {
   "cell_type": "code",
   "execution_count": 71,
   "id": "8760bbeb-12da-4c88-87bf-a71e9879c5de",
   "metadata": {},
   "outputs": [
    {
     "name": "stdout",
     "output_type": "stream",
     "text": [
      "[0 1 2 3 4 5 6 7 8 9]\n"
     ]
    }
   ],
   "source": [
    "arr = np.arange(10)\n",
    "print(arr)"
   ]
  },
  {
   "cell_type": "code",
   "execution_count": 76,
   "id": "251b39f1-bcce-4ced-9969-5663cf3e3ad4",
   "metadata": {},
   "outputs": [
    {
     "name": "stdout",
     "output_type": "stream",
     "text": [
      "7\n",
      "[2 3 4]\n"
     ]
    }
   ],
   "source": [
    "arr[7]\n",
    "print(arr[7])\n",
    "print(arr[2:5])"
   ]
  },
  {
   "cell_type": "code",
   "execution_count": 82,
   "id": "cca75be3-04d6-44f8-8f53-2c52a59b47dd",
   "metadata": {},
   "outputs": [
    {
     "name": "stdout",
     "output_type": "stream",
     "text": [
      "[ 0  1 10 10 10  5  6  7  8  9]\n"
     ]
    }
   ],
   "source": [
    "arr[2:5] = 10\n",
    "print(arr) # 파이썬은 슬라이싱을 해도 원본이 유지됐지만 arr은 원본도 바뀜"
   ]
  },
  {
   "cell_type": "code",
   "execution_count": 81,
   "id": "3f0da8ae-c415-4fc7-8716-19f1533eaf81",
   "metadata": {},
   "outputs": [
    {
     "name": "stdout",
     "output_type": "stream",
     "text": [
      "[1, 2, 3, 4, 5]\n"
     ]
    }
   ],
   "source": [
    "py_list = [1, 2, 3, 4, 5]\n",
    "py_list[2:3].pop() # 원본은 그대로 있음\n",
    "print(py_list)"
   ]
  },
  {
   "cell_type": "code",
   "execution_count": 85,
   "id": "abafd128-5e13-4cc3-92b7-aefdaf8bc27e",
   "metadata": {},
   "outputs": [
    {
     "name": "stdout",
     "output_type": "stream",
     "text": [
      "[[1 2 3]\n",
      " [4 5 6]]\n"
     ]
    }
   ],
   "source": [
    "arr = np.array([[1, 2, 3], [4, 5, 6]])\n",
    "print(arr)"
   ]
  },
  {
   "cell_type": "code",
   "execution_count": 89,
   "id": "acf3ad6d-c1e2-4903-8ebc-bbf96b5dac86",
   "metadata": {},
   "outputs": [
    {
     "name": "stdout",
     "output_type": "stream",
     "text": [
      "[1 2 3]\n",
      "5\n",
      "5\n"
     ]
    }
   ],
   "source": [
    "print(arr[0]) # 0번째 데이터는 [1, 2, 3] 1번쨰 데이터는 [4, 5, 6]\n",
    "print(arr[1][1])\n",
    "print(arr [1, 1])"
   ]
  },
  {
   "cell_type": "code",
   "execution_count": 93,
   "id": "606bced5-c79e-4795-ab3c-513c16c45dfd",
   "metadata": {},
   "outputs": [],
   "source": [
    "arr3d = np.array([[[1, 2, 3], [4, 5, 6], [7, 8, 9]], \n",
    "          [[11, 12, 13], [14, 15, 16], [17, 18, 19]], \n",
    "          [[11, 22, 33], [44, 55, 66], [77, 88, 99]]])"
   ]
  },
  {
   "cell_type": "code",
   "execution_count": 98,
   "id": "a5ee8418-94a1-49de-bf53-07c77cbd5b41",
   "metadata": {},
   "outputs": [
    {
     "name": "stdout",
     "output_type": "stream",
     "text": [
      "22\n",
      "22\n"
     ]
    }
   ],
   "source": [
    "print(arr3d[2][0][1])\n",
    "print(arr3d [2, 0, 1])"
   ]
  },
  {
   "cell_type": "code",
   "execution_count": 100,
   "id": "b771e207-3fda-4897-9902-7226e164d0b5",
   "metadata": {},
   "outputs": [
    {
     "name": "stdout",
     "output_type": "stream",
     "text": [
      "[[[1 2 3]\n",
      "  [4 5 6]\n",
      "  [7 8 9]]]\n",
      "[[[6]\n",
      "  [9]]]\n"
     ]
    }
   ],
   "source": [
    "print(arr3d[:1]) # 0번째 데이터만 출력\n",
    "print(arr3d[:1, 1:, 2:])"
   ]
  },
  {
   "cell_type": "code",
   "execution_count": 101,
   "id": "0f159927-cab5-45de-9238-cc49892a960d",
   "metadata": {},
   "outputs": [
    {
     "data": {
      "text/plain": [
       "array([[6],\n",
       "       [9]])"
      ]
     },
     "execution_count": 101,
     "metadata": {},
     "output_type": "execute_result"
    }
   ],
   "source": [
    "arr3d[0, 1:, 2:]"
   ]
  },
  {
   "cell_type": "code",
   "execution_count": 103,
   "id": "32a33b63-3b87-4479-a400-8758f5d51058",
   "metadata": {},
   "outputs": [
    {
     "name": "stdout",
     "output_type": "stream",
     "text": [
      "[[[   1    2    3]\n",
      "  [   4    5 9999]\n",
      "  [   7    8 9999]]\n",
      "\n",
      " [[  11   12   13]\n",
      "  [  14   15   16]\n",
      "  [  17   18   19]]\n",
      "\n",
      " [[  11   22   33]\n",
      "  [  44   55   66]\n",
      "  [  77   88   99]]]\n"
     ]
    }
   ],
   "source": [
    "arr3d[0, 1:, 2:] = 9999\n",
    "print(arr3d)"
   ]
  },
  {
   "cell_type": "markdown",
   "id": "a1905a3e-5ee0-460d-9c31-77f3e9d11f47",
   "metadata": {},
   "source": [
    "## 불리언 값으로 선택"
   ]
  },
  {
   "cell_type": "code",
   "execution_count": 104,
   "id": "25086880-23ff-495c-8193-f57d406dff37",
   "metadata": {},
   "outputs": [],
   "source": [
    "names = np.array(['hong', 'kim', 'hong', 'kim'])\n",
    "data = np.array([['math', 60], ['math', 90], ['eng', 70], ['eng', 50]])"
   ]
  },
  {
   "cell_type": "code",
   "execution_count": 107,
   "id": "4e0bac76-70ad-4447-856f-f81a18229cd3",
   "metadata": {},
   "outputs": [
    {
     "data": {
      "text/plain": [
       "array([ True, False,  True, False])"
      ]
     },
     "execution_count": 107,
     "metadata": {},
     "output_type": "execute_result"
    }
   ],
   "source": [
    "# hong의 데이터만 추출하고 싶을때\n",
    "names == 'hong'"
   ]
  },
  {
   "cell_type": "code",
   "execution_count": 111,
   "id": "3efdf6ec-53dc-431e-8fe0-25a7aebabcf2",
   "metadata": {},
   "outputs": [
    {
     "data": {
      "text/plain": [
       "array([['math', '60'],\n",
       "       ['eng', '70']], dtype='<U21')"
      ]
     },
     "execution_count": 111,
     "metadata": {},
     "output_type": "execute_result"
    }
   ],
   "source": [
    "# data[[True, False, True, False]]에서 True만 출력한것\n",
    "data[names == 'hong'] # 특정 조건에 맞는 데이터를 고를 때"
   ]
  },
  {
   "cell_type": "code",
   "execution_count": 179,
   "id": "74f7789a-4c60-414d-a3b5-e28b432d2534",
   "metadata": {},
   "outputs": [
    {
     "name": "stdout",
     "output_type": "stream",
     "text": [
      "[['math']\n",
      " ['eng']]\n"
     ]
    }
   ],
   "source": [
    "data[names == 'hong', 1] # 인덱스 접근\n",
    "print(data[names == 'hong', :1]) # 슬라이싱 접근"
   ]
  },
  {
   "cell_type": "code",
   "execution_count": 181,
   "id": "c0467ae0-adc0-4a82-b4d4-d7fcced3726b",
   "metadata": {},
   "outputs": [],
   "source": [
    "names = np.array(['do', 'deft', 'hanhwa', 'yerin'])"
   ]
  },
  {
   "cell_type": "code",
   "execution_count": 184,
   "id": "63ad116b-e931-444f-b373-8fbf28b3672a",
   "metadata": {},
   "outputs": [
    {
     "data": {
      "text/plain": [
       "array([False, False, False,  True])"
      ]
     },
     "execution_count": 184,
     "metadata": {},
     "output_type": "execute_result"
    }
   ],
   "source": [
    "names == 'yerin'"
   ]
  },
  {
   "cell_type": "code",
   "execution_count": 187,
   "id": "455ecaba-623f-4afe-a430-04752e3ff74c",
   "metadata": {},
   "outputs": [],
   "source": [
    "data = np.array(['exo', 'lol', 'baseball', 'min'])"
   ]
  },
  {
   "cell_type": "code",
   "execution_count": 189,
   "id": "9c221eeb-9797-4dfb-8685-146a60ef6a18",
   "metadata": {},
   "outputs": [
    {
     "data": {
      "text/plain": [
       "array(['min'], dtype='<U8')"
      ]
     },
     "execution_count": 189,
     "metadata": {},
     "output_type": "execute_result"
    }
   ],
   "source": [
    "data[names == 'yerin']"
   ]
  },
  {
   "cell_type": "code",
   "execution_count": 192,
   "id": "f3d4ee75-5749-4d7b-a7eb-2a53ed4ea89a",
   "metadata": {},
   "outputs": [
    {
     "ename": "IndexError",
     "evalue": "too many indices for array: array is 1-dimensional, but 2 were indexed",
     "output_type": "error",
     "traceback": [
      "\u001b[1;31m---------------------------------------------------------------------------\u001b[0m",
      "\u001b[1;31mIndexError\u001b[0m                                Traceback (most recent call last)",
      "Cell \u001b[1;32mIn[192], line 1\u001b[0m\n\u001b[1;32m----> 1\u001b[0m \u001b[43mdata\u001b[49m\u001b[43m[\u001b[49m\u001b[43mnames\u001b[49m\u001b[43m \u001b[49m\u001b[38;5;241;43m==\u001b[39;49m\u001b[43m \u001b[49m\u001b[38;5;124;43m'\u001b[39;49m\u001b[38;5;124;43myerin\u001b[39;49m\u001b[38;5;124;43m'\u001b[39;49m\u001b[43m,\u001b[49m\u001b[43m \u001b[49m\u001b[38;5;241;43m1\u001b[39;49m\u001b[43m]\u001b[49m\n",
      "\u001b[1;31mIndexError\u001b[0m: too many indices for array: array is 1-dimensional, but 2 were indexed"
     ]
    }
   ],
   "source": [
    "data[names == 'yerin', 1]"
   ]
  },
  {
   "cell_type": "code",
   "execution_count": 116,
   "id": "3b4cb397-622a-4e76-bea4-46118d609034",
   "metadata": {},
   "outputs": [
    {
     "name": "stdout",
     "output_type": "stream",
     "text": [
      "[False  True False  True]\n"
     ]
    }
   ],
   "source": [
    "print(names != 'hong')"
   ]
  },
  {
   "cell_type": "code",
   "execution_count": 118,
   "id": "8ff969dc-10ef-46d2-ba3d-e730d0897328",
   "metadata": {},
   "outputs": [
    {
     "name": "stdout",
     "output_type": "stream",
     "text": [
      "[False  True False  True]\n"
     ]
    }
   ],
   "source": [
    "print(~(names == 'hong')) # ~는 계산을 먼저 한 후 역을 보여주는것"
   ]
  },
  {
   "cell_type": "code",
   "execution_count": 119,
   "id": "16a82f9e-b256-45b5-b555-ece93ac59b13",
   "metadata": {},
   "outputs": [
    {
     "data": {
      "text/plain": [
       "array([['math', '90'],\n",
       "       ['eng', '50']], dtype='<U21')"
      ]
     },
     "execution_count": 119,
     "metadata": {},
     "output_type": "execute_result"
    }
   ],
   "source": [
    "cond = names == 'kim'\n",
    "data[cond]"
   ]
  },
  {
   "cell_type": "markdown",
   "id": "88bce253-e91f-487e-8d00-7dbb43420a28",
   "metadata": {},
   "source": [
    "## 팬시 색인(fancy indexing)"
   ]
  },
  {
   "cell_type": "code",
   "execution_count": 126,
   "id": "e963161f-8b3f-4cb0-9fbc-08157dbec44a",
   "metadata": {},
   "outputs": [
    {
     "name": "stdout",
     "output_type": "stream",
     "text": [
      "[[0. 0. 0. 0.]\n",
      " [1. 1. 1. 1.]\n",
      " [2. 2. 2. 2.]\n",
      " [3. 3. 3. 3.]\n",
      " [4. 4. 4. 4.]\n",
      " [5. 5. 5. 5.]\n",
      " [6. 6. 6. 6.]\n",
      " [7. 7. 7. 7.]]\n"
     ]
    }
   ],
   "source": [
    "arr = np.zeros((8, 4))\n",
    "for i in range(8):\n",
    "    arr[i] = i\n",
    "print(arr)"
   ]
  },
  {
   "cell_type": "code",
   "execution_count": 129,
   "id": "8eb905b8-0966-4aa2-97a9-3e8d6aba6d06",
   "metadata": {},
   "outputs": [
    {
     "data": {
      "text/plain": [
       "array([[4., 4., 4., 4.],\n",
       "       [3., 3., 3., 3.],\n",
       "       [0., 0., 0., 0.],\n",
       "       [5., 5., 5., 5.]])"
      ]
     },
     "execution_count": 129,
     "metadata": {},
     "output_type": "execute_result"
    }
   ],
   "source": [
    "arr[[4, 3, 0, 5]] # []안에 [] > [[]] 4번째 3번째 0번째 5번째 내가 원하는 특정 데이터에 접근할때"
   ]
  },
  {
   "cell_type": "code",
   "execution_count": 130,
   "id": "319a8579-df4f-4e53-b061-d6ac2d79ca04",
   "metadata": {},
   "outputs": [
    {
     "data": {
      "text/plain": [
       "array([[5., 5., 5., 5.],\n",
       "       [3., 3., 3., 3.],\n",
       "       [7., 7., 7., 7.]])"
      ]
     },
     "execution_count": 130,
     "metadata": {},
     "output_type": "execute_result"
    }
   ],
   "source": [
    "arr[[-3, -5, -1]]"
   ]
  },
  {
   "cell_type": "code",
   "execution_count": 133,
   "id": "62d7bf6c-893b-4abd-943c-fd392404f6a7",
   "metadata": {},
   "outputs": [
    {
     "name": "stdout",
     "output_type": "stream",
     "text": [
      "[[1. 1. 1. 1.]\n",
      " [5. 5. 5. 5.]]\n",
      "[1. 5.]\n"
     ]
    }
   ],
   "source": [
    "print(arr[[1, 5]])\n",
    "print(arr[[1, 5], [0, 2]])"
   ]
  },
  {
   "cell_type": "code",
   "execution_count": 140,
   "id": "e77de82d-2490-4295-b282-017b00fe10de",
   "metadata": {},
   "outputs": [
    {
     "name": "stdout",
     "output_type": "stream",
     "text": [
      "[[ 0  1  2  3]\n",
      " [ 4  5  6  7]\n",
      " [ 8  9 10 11]\n",
      " [12 13 14 15]\n",
      " [16 17 18 19]\n",
      " [20 21 22 23]\n",
      " [24 25 26 27]\n",
      " [28 29 30 31]]\n"
     ]
    }
   ],
   "source": [
    "arr = np.arange(32).reshape(8, 4)\n",
    "print(arr)"
   ]
  },
  {
   "cell_type": "code",
   "execution_count": 142,
   "id": "3c88c216-5a2e-404f-882e-def9f5fbd8e9",
   "metadata": {},
   "outputs": [
    {
     "name": "stdout",
     "output_type": "stream",
     "text": [
      "[[ 4  5  6  7]\n",
      " [20 21 22 23]]\n",
      "[ 6 23]\n"
     ]
    }
   ],
   "source": [
    "print(arr[[1, 5]])\n",
    "print(arr[[1, 5], [2, 3]])\n"
   ]
  },
  {
   "cell_type": "code",
   "execution_count": 148,
   "id": "8d9f2bdd-b263-477d-800a-63e1934dde4d",
   "metadata": {},
   "outputs": [
    {
     "data": {
      "text/plain": [
       "array([[ 6,  7],\n",
       "       [22, 23]])"
      ]
     },
     "execution_count": 148,
     "metadata": {},
     "output_type": "execute_result"
    }
   ],
   "source": [
    "arr[[1, 5]][:, [2, 3]]"
   ]
  },
  {
   "cell_type": "markdown",
   "id": "ec1fa734-9e77-445c-94cb-ed2f3b218e94",
   "metadata": {},
   "source": [
    "## 배열 전치"
   ]
  },
  {
   "cell_type": "code",
   "execution_count": 151,
   "id": "de82c285-30e5-493f-a773-02af6ae4d890",
   "metadata": {},
   "outputs": [
    {
     "name": "stdout",
     "output_type": "stream",
     "text": [
      "[[ 0  1  2  3  4]\n",
      " [ 5  6  7  8  9]\n",
      " [10 11 12 13 14]]\n"
     ]
    }
   ],
   "source": [
    "arr = np.arange(15).reshape(3, 5)\n",
    "print(arr)"
   ]
  },
  {
   "cell_type": "code",
   "execution_count": 153,
   "id": "14c38143-b99a-4670-ac33-5d049bc5367b",
   "metadata": {},
   "outputs": [
    {
     "name": "stdout",
     "output_type": "stream",
     "text": [
      "[[ 0  5 10]\n",
      " [ 1  6 11]\n",
      " [ 2  7 12]\n",
      " [ 3  8 13]\n",
      " [ 4  9 14]]\n"
     ]
    }
   ],
   "source": [
    "print(arr.T) # 축이 바뀔 때"
   ]
  },
  {
   "cell_type": "code",
   "execution_count": 154,
   "id": "9a4760e2-b10f-47cd-abcb-918f83939782",
   "metadata": {},
   "outputs": [
    {
     "data": {
      "text/plain": [
       "array([[ 0,  3,  6,  9, 12],\n",
       "       [15, 18, 21, 24, 27],\n",
       "       [30, 33, 36, 39, 42]])"
      ]
     },
     "execution_count": 154,
     "metadata": {},
     "output_type": "execute_result"
    }
   ],
   "source": [
    "arr * 3"
   ]
  },
  {
   "cell_type": "code",
   "execution_count": 160,
   "id": "401da8e4-5245-4557-843b-af3d5c056a8f",
   "metadata": {},
   "outputs": [
    {
     "name": "stdout",
     "output_type": "stream",
     "text": [
      "[[ 30  80 130]\n",
      " [ 80 255 430]\n",
      " [130 430 730]]\n",
      "[[ 30  80 130]\n",
      " [ 80 255 430]\n",
      " [130 430 730]]\n"
     ]
    }
   ],
   "source": [
    "# 행렬의 내적, 곱\n",
    "print(arr @ arr.T) # 행렬간의 곱\n",
    "print(np.dot(arr, arr.T))"
   ]
  },
  {
   "cell_type": "markdown",
   "id": "8d9ba276-de19-4133-8ded-dc4418ca707f",
   "metadata": {},
   "source": [
    "## numpy 함수"
   ]
  },
  {
   "cell_type": "code",
   "execution_count": 166,
   "id": "846ec904-ef03-4366-8c8c-0fb043257b3e",
   "metadata": {},
   "outputs": [
    {
     "name": "stdout",
     "output_type": "stream",
     "text": [
      "[[ 0.17893878 -0.52402339  1.49457486]\n",
      " [-0.59259319 -1.29515765 -0.45702775]\n",
      " [ 1.46462698 -0.72160592 -0.29999229]]\n"
     ]
    }
   ],
   "source": [
    "samples = np.random.standard_normal(size = (3, 3))\n",
    "print(samples) # 3, 3의 배열을 임의로 만들 때 "
   ]
  },
  {
   "cell_type": "code",
   "execution_count": 170,
   "id": "f7bb3871-7478-423e-9a91-bdc20faf19c0",
   "metadata": {},
   "outputs": [
    {
     "name": "stdout",
     "output_type": "stream",
     "text": [
      "[[0.42301157        nan 1.22252806]\n",
      " [       nan        nan        nan]\n",
      " [1.21021774        nan        nan]]\n"
     ]
    },
    {
     "name": "stderr",
     "output_type": "stream",
     "text": [
      "C:\\Users\\yerin\\AppData\\Local\\Temp\\ipykernel_42424\\2910638063.py:1: RuntimeWarning: invalid value encountered in sqrt\n",
      "  arr1 = np.sqrt(samples)\n"
     ]
    }
   ],
   "source": [
    "arr1 = np.sqrt(samples) \n",
    "# nan : 숫자가 아님, 음수에 루트를 씌었을 때\n",
    "print(arr1)"
   ]
  },
  {
   "cell_type": "code",
   "execution_count": 172,
   "id": "39ed9532-d22a-4e52-8f47-cc91ebb2bc6d",
   "metadata": {},
   "outputs": [
    {
     "name": "stdout",
     "output_type": "stream",
     "text": [
      "[[0.17893878 0.52402339 1.49457486]\n",
      " [0.59259319 1.29515765 0.45702775]\n",
      " [1.46462698 0.72160592 0.29999229]]\n"
     ]
    }
   ],
   "source": [
    "arr2 = np.abs(samples) # abs = 절댓값 취하기\n",
    "print(arr2)"
   ]
  },
  {
   "cell_type": "code",
   "execution_count": 174,
   "id": "e94db42e-c74a-48f7-9547-0214e3502ac4",
   "metadata": {},
   "outputs": [
    {
     "data": {
      "text/plain": [
       "array([[False,  True, False],\n",
       "       [ True,  True,  True],\n",
       "       [False,  True,  True]])"
      ]
     },
     "execution_count": 174,
     "metadata": {},
     "output_type": "execute_result"
    }
   ],
   "source": [
    "np.isnan(arr1) # 현재 내가 갖고 있는 배열에 nan이 들어있는지 확인"
   ]
  },
  {
   "cell_type": "code",
   "execution_count": null,
   "id": "52dade51-aefb-4a4b-9946-f0e098ffe241",
   "metadata": {},
   "outputs": [],
   "source": []
  },
  {
   "cell_type": "code",
   "execution_count": null,
   "id": "9b0f42c8-6347-4bac-8cd0-5da7c070bb76",
   "metadata": {},
   "outputs": [],
   "source": []
  },
  {
   "cell_type": "code",
   "execution_count": null,
   "id": "7964c64b-9171-4bdb-9fa9-39f487501c6a",
   "metadata": {},
   "outputs": [],
   "source": []
  }
 ],
 "metadata": {
  "kernelspec": {
   "display_name": "Python 3 (ipykernel)",
   "language": "python",
   "name": "python3"
  },
  "language_info": {
   "codemirror_mode": {
    "name": "ipython",
    "version": 3
   },
   "file_extension": ".py",
   "mimetype": "text/x-python",
   "name": "python",
   "nbconvert_exporter": "python",
   "pygments_lexer": "ipython3",
   "version": "3.13.2"
  }
 },
 "nbformat": 4,
 "nbformat_minor": 5
}
